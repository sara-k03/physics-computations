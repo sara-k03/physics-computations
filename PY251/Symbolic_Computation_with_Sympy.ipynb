{
 "cells": [
  {
   "cell_type": "markdown",
   "id": "bc507b55-a8a0-4ca3-be02-8661dd50f6b7",
   "metadata": {},
   "source": [
    "**Exercise 10.1a**\n",
    "\n",
    "Define the polynomial\n",
    "\n",
    "    p=(x + y)(x^2 + y)(ax + y)\n",
    "\n",
    "using SymPy.\n",
    "\n",
    "- Expand p.\n",
    "- Find the coefficient of x^3.\n",
    "- Find the coefficient of a.\n",
    "- Evaluate p at x=7, y=3"
   ]
  },
  {
   "cell_type": "code",
   "execution_count": 1,
   "id": "4b96cd64-f4b9-4012-824a-523e792fc37d",
   "metadata": {},
   "outputs": [
    {
     "data": {
      "text/latex": [
       "$\\displaystyle a x^{4} + a x^{3} y + a x^{2} y + a x y^{2} + x^{3} y + x^{2} y^{2} + x y^{2} + y^{3}$"
      ],
      "text/plain": [
       "a*x**4 + a*x**3*y + a*x**2*y + a*x*y**2 + x**3*y + x**2*y**2 + x*y**2 + y**3"
      ]
     },
     "execution_count": 1,
     "metadata": {},
     "output_type": "execute_result"
    }
   ],
   "source": [
    "import sympy as sp \n",
    "\n",
    "x, y, a = sp.symbols('x, y, a')\n",
    "p = (x + y)*(x**2 + y)*(a*x + y)\n",
    "\n",
    "p = sp.expand(p) # Expand p"
   ]
  },
  {
   "cell_type": "code",
   "execution_count": 2,
   "id": "5edf0922-dd51-4bff-9257-335dcc1736c5",
   "metadata": {},
   "outputs": [
    {
     "data": {
      "text/latex": [
       "$\\displaystyle a y + y$"
      ],
      "text/plain": [
       "a*y + y"
      ]
     },
     "execution_count": 2,
     "metadata": {},
     "output_type": "execute_result"
    }
   ],
   "source": [
    "p.coeff(x, 3) # Find the coefficient of x^3"
   ]
  },
  {
   "cell_type": "code",
   "execution_count": 3,
   "id": "ea90b36d-444a-472c-bb1b-430237a0dded",
   "metadata": {},
   "outputs": [
    {
     "data": {
      "text/latex": [
       "$\\displaystyle x^{4} + x^{3} y + x^{2} y + x y^{2}$"
      ],
      "text/plain": [
       "x**4 + x**3*y + x**2*y + x*y**2"
      ]
     },
     "execution_count": 3,
     "metadata": {},
     "output_type": "execute_result"
    }
   ],
   "source": [
    "p.coeff(a, 1) # Find the coefficient of a"
   ]
  },
  {
   "cell_type": "code",
   "execution_count": 4,
   "id": "89d95a23-66ef-4166-b83a-e92cb9e237d4",
   "metadata": {},
   "outputs": [
    {
     "data": {
      "text/latex": [
       "$\\displaystyle a x^{4} + a x^{3} y + a x^{2} y + a x y^{2} + x^{3} y + x^{2} y^{2} + x y^{2} + y^{3}$"
      ],
      "text/plain": [
       "a*x**4 + a*x**3*y + a*x**2*y + a*x*y**2 + x**3*y + x**2*y**2 + x*y**2 + y**3"
      ]
     },
     "execution_count": 4,
     "metadata": {},
     "output_type": "execute_result"
    }
   ],
   "source": [
    "p.subs((x, 7),(y, 3)) # Evaluate p at x = 7 and y = 3"
   ]
  },
  {
   "cell_type": "markdown",
   "id": "a33f1bfe-6785-400a-ace4-36645c2e6496",
   "metadata": {},
   "source": [
    "**Exercise 10.1c**\n",
    "\n",
    "Solve the system of equations:\n",
    "\n",
    "    2x^2 - 9y^2 = 1\n",
    "       3y - x^2 = 0\n",
    "\n",
    "using SymPy. Check that the equations are satisfied by each solution."
   ]
  },
  {
   "cell_type": "code",
   "execution_count": 7,
   "id": "298fbb9c-1926-48c9-83bf-f8f08046cef8",
   "metadata": {},
   "outputs": [
    {
     "data": {
      "text/plain": [
       "[(-1, 1/3), (1, 1/3)]"
      ]
     },
     "execution_count": 7,
     "metadata": {},
     "output_type": "execute_result"
    }
   ],
   "source": [
    "import sympy as sp \n",
    "\n",
    "f = 2 * x ** 2 - 9 * y ** 2\n",
    "eq1 = sp.Eq(f, 1)\n",
    "\n",
    "g = 3 * y - x ** 2\n",
    "eq2 = sp.Eq(g, 0)\n",
    "\n",
    "solns = sp.solve((eq1, eq2), (x, y))\n",
    "solns\n"
   ]
  },
  {
   "cell_type": "markdown",
   "id": "eeb0be5e-2c2c-462f-9b66-664c876e16cd",
   "metadata": {},
   "source": [
    "**Exercise 10.2a**\n",
    "\n",
    "Consider the function \n",
    "    \n",
    "    f(x,y) = sin(x + y) * cos(2x - y)\n",
    "\n",
    "Using SymPy:\n",
    "\n",
    "- Differentiate f(x,y) with respect to x and simplify the result.\n",
    "- Integrate f(x,y) with respect to x and simplify the result.\n",
    "- Integrate f(x,y) with respect to x from x = -1 to x = 1, substitute the value y = 2, and evaluate the answer numerically to 8 significant figures."
   ]
  },
  {
   "cell_type": "code",
   "execution_count": 14,
   "id": "3f82866a-b77e-40ce-893e-e69ea1263cf7",
   "metadata": {},
   "outputs": [
    {
     "data": {
      "text/latex": [
       "$\\displaystyle \\frac{3 \\cos{\\left(3 x \\right)}}{2} - \\frac{\\cos{\\left(x - 2 y \\right)}}{2}$"
      ],
      "text/plain": [
       "3*cos(3*x)/2 - cos(x - 2*y)/2"
      ]
     },
     "execution_count": 14,
     "metadata": {},
     "output_type": "execute_result"
    }
   ],
   "source": [
    "import sympy as sp \n",
    "\n",
    "x,y = sp.symbols('x y')\n",
    "f = sp.sin(x + y) * sp.cos(2 * x - y)\n",
    "\n",
    "diff_x = sp.diff(f, x)\n",
    "diff_x = sp.simplify(diff_x)\n",
    "diff_x"
   ]
  },
  {
   "cell_type": "code",
   "execution_count": 16,
   "id": "2844c77d-c80b-4666-8199-3b5df891d1f1",
   "metadata": {},
   "outputs": [
    {
     "data": {
      "text/latex": [
       "$\\displaystyle - \\frac{\\cos{\\left(3 x \\right)}}{6} + \\frac{\\cos{\\left(x - 2 y \\right)}}{2}$"
      ],
      "text/plain": [
       "-cos(3*x)/6 + cos(x - 2*y)/2"
      ]
     },
     "execution_count": 16,
     "metadata": {},
     "output_type": "execute_result"
    }
   ],
   "source": [
    "int_x = sp.integrate(f, x)\n",
    "int_x = sp.simplify(int_x)\n",
    "int_x"
   ]
  },
  {
   "cell_type": "code",
   "execution_count": 21,
   "id": "f09d6b15-0eee-4497-8368-d91dce411913",
   "metadata": {},
   "outputs": [
    {
     "data": {
      "text/latex": [
       "$\\displaystyle \\frac{2 \\sin{\\left(1 \\right)} \\sin{\\left(4 \\right)}}{3} + \\frac{\\cos{\\left(3 \\right)}}{3} - \\frac{\\cos{\\left(1 \\right)} \\cos{\\left(4 \\right)}}{3}$"
      ],
      "text/plain": [
       "2*sin(1)*sin(4)/3 + cos(3)/3 - cos(1)*cos(4)/3"
      ]
     },
     "execution_count": 21,
     "metadata": {},
     "output_type": "execute_result"
    }
   ],
   "source": [
    "def_int_x = sp.Integral(f, (x, -1, 1))\n",
    "def_int_x = def_int_x.doit()\n",
    "def_int_x = def_int_x.subs(y, 2)\n",
    "def_int_x"
   ]
  },
  {
   "cell_type": "markdown",
   "id": "6a63b987-278a-4bf8-9d4b-4698ad5bc858",
   "metadata": {},
   "source": [
    "**Exercise 10.2b**\n",
    "\n",
    "Solve the differential equation\n",
    "\n",
    "    x^2 (d^2/dx^2) F(x) - x (d/dx) F(x) - 3 F(x) = 4x^3\n",
    "\n",
    "using SymPy."
   ]
  },
  {
   "cell_type": "code",
   "execution_count": 29,
   "id": "8daeb396-3899-47a2-9029-64e5bc8eaf51",
   "metadata": {},
   "outputs": [
    {
     "data": {
      "text/latex": [
       "$\\displaystyle F{\\left(x \\right)} = \\frac{C_{1} + x^{4} \\left(C_{2} + \\log{\\left(x \\right)}\\right)}{x}$"
      ],
      "text/plain": [
       "Eq(F(x), (C1 + x**4*(C2 + log(x)))/x)"
      ]
     },
     "execution_count": 29,
     "metadata": {},
     "output_type": "execute_result"
    }
   ],
   "source": [
    "import sympy as sp \n",
    "\n",
    "F = sp.Function('F')\n",
    "x = sp.symbols('x')\n",
    "\n",
    "diff = sp.Eq( x**2 * sp.diff(F(x), x, x) - x * sp.diff(F(x), x) - 3 * F(x), 4 * x**3)\n",
    "solution = sp.dsolve(diff, F(x))\n",
    "solution"
   ]
  },
  {
   "cell_type": "markdown",
   "id": "29dd1986-b908-4d81-8b2b-6f8956f90cd1",
   "metadata": {},
   "source": [
    "**Exercise 10.5**\n",
    "\n",
    "Use SymPy to compute \n",
    "\n",
    "    f(x) = Int( x * (sin(x))^2 dx)\n",
    "\n",
    "Convert f(x) to a NumPy function, then use Matplotlib to plot the function."
   ]
  },
  {
   "cell_type": "code",
   "execution_count": 40,
   "id": "65e58aea-e593-466b-9207-e210b87f1ce2",
   "metadata": {},
   "outputs": [
    {
     "data": {
      "image/png": "[encoded data removed]",
      "text/plain": [
       "<Figure size 640x480 with 1 Axes>"
      ]
     },
     "metadata": {},
     "output_type": "display_data"
    }
   ],
   "source": [
    "import sympy as sp \n",
    "import numpy as np \n",
    "import matplotlib.pyplot as plt\n",
    "\n",
    "x = sp.symbols('x')\n",
    "g = x * sp.sin(x) ** 2\n",
    "f = sp.integrate(g, x)\n",
    "\n",
    "# f --> numpy\n",
    "f = sp.lambdify(x, f, \"numpy\")\n",
    "\n",
    "# numerical evaluation\n",
    "x_val = np.linspace(0, 10, 100)\n",
    "y_val = f(x_val)\n",
    "\n",
    "plt.close()\n",
    "plt.plot(x_val, y_val) \n",
    "plt.title(\"Integral of x * (sin(x))^2\")\n",
    "plt.xlabel(\"x\")\n",
    "plt.ylabel(\"f(x)\")\n",
    "plt.show()"
   ]
  }
 ],
 "metadata": {
  "kernelspec": {
   "display_name": "Python 3 (ipykernel)",
   "language": "python",
   "name": "python3"
  },
  "language_info": {
   "codemirror_mode": {
    "name": "ipython",
    "version": 3
   },
   "file_extension": ".py",
   "mimetype": "text/x-python",
   "name": "python",
   "nbconvert_exporter": "python",
   "pygments_lexer": "ipython3",
   "version": "3.12.2"
  }
 },
 "nbformat": 4,
 "nbformat_minor": 5
}
