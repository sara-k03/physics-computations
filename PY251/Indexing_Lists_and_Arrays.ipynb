{
 "cells": [
  {
   "cell_type": "markdown",
   "id": "cfd5efa0-1754-4a43-a59e-956d4e149626",
   "metadata": {},
   "source": [
    "**Exercise 5.3a**\n",
    "\n",
    "Consider these lists and arrays:\n",
    "\n",
    "A = [2, 4, 6, 8, 10, 12]\n",
    "B = np.linspace(0.1, 5.1, 6) \n",
    "\n",
    "• How many elements are in A? In B? \n",
    "\n",
    "- There are six elements in both A and B. \n",
    "\n",
    "• What is A[0]? B[0]? \n",
    "\n",
    "- A[0] is 2 and B[0] is 0.1.\n",
    "\n",
    "• What is A[2]? B[2]? \n",
    "\n",
    "- A[2] is 6 and B[2] is 2.1.  \n",
    "\n",
    "• What is A[5]? B[5]? \n",
    "\n",
    "- A[5] is 12 and B[5] is 5.1. \n",
    "\n",
    "• What is A[6]? B[6]?\n",
    "\n",
    "- Both of these result in an index-out-of-bounds error. \n"
   ]
  },
  {
   "cell_type": "code",
   "execution_count": 8,
   "id": "7dae3827-c564-4a2a-89ae-1c4785562102",
   "metadata": {},
   "outputs": [],
   "source": [
    "# Exercise 5.3a \n",
    "\n",
    "import numpy as np\n",
    "\n",
    "A = [2, 4, 6, 8, 10, 12]\n",
    "B = np.linspace(0.1, 5.1, 6) \n",
    "\n",
    "# print(len(A))\n",
    "# print(len(B))\n",
    "\n",
    "# print(A[0])\n",
    "# print(B[0])\n",
    "\n",
    "# print(A[2])\n",
    "# print(B[2])\n",
    "\n",
    "# print(A[5])\n",
    "# print(B[5])\n",
    "\n",
    "# print(A[6])\n",
    "# print(B[6])"
   ]
  },
  {
   "cell_type": "markdown",
   "id": "470587e8-5a83-4c9a-8520-e81d9c64cb58",
   "metadata": {},
   "source": [
    "**Exercise 5.3b**\n",
    "\n",
    "Run this code: \n",
    "\n",
    "    C = np.linspace(2,4,5) \n",
    "    print(C) \n",
    "    C[3] = 17.0\n",
    "    print(C)\n",
    "\n",
    "What's happening? \n",
    "\n",
    "The first line declares a NumPy array that starts with 2 and ends with 4, with 5 evenly spaced elements. The second line prints out the list that was declared on the first line. The third line makes the fourth element of the the NumPy array C 17. Then, the NumPy array C is printed again. "
   ]
  },
  {
   "cell_type": "code",
   "execution_count": 9,
   "id": "91a7ee32-6d5a-4ebd-9c2b-58b925a098dd",
   "metadata": {},
   "outputs": [
    {
     "name": "stdout",
     "output_type": "stream",
     "text": [
      "[2.  2.5 3.  3.5 4. ]\n",
      "[ 2.   2.5  3.  17.   4. ]\n"
     ]
    }
   ],
   "source": [
    "# Exercise 5.3b\n",
    "\n",
    "import numpy as np\n",
    "\n",
    "C = np.linspace(2,4,5) \n",
    "print(C) \n",
    "C[3] = 17.0\n",
    "print(C)"
   ]
  },
  {
   "cell_type": "markdown",
   "id": "0c26f508-8ed1-4e46-8c18-581985626c0e",
   "metadata": {},
   "source": [
    "**Exercise 5.4b**\n",
    "\n",
    "Write a code that will create a NumPy array consisting of numbers 1, 2,...,100. Have your code search through the array using a for loop to cycle through the index values. Print the value of every array element that is divisible by 3, but not divisible by 2."
   ]
  },
  {
   "cell_type": "code",
   "execution_count": 12,
   "id": "d36cbf21-2bc7-4868-899a-e978a9836570",
   "metadata": {},
   "outputs": [
    {
     "name": "stdout",
     "output_type": "stream",
     "text": [
      "3.0\n",
      "9.0\n",
      "15.0\n",
      "21.0\n",
      "27.0\n",
      "33.0\n",
      "39.0\n",
      "45.0\n",
      "51.0\n",
      "57.0\n",
      "63.0\n",
      "69.0\n",
      "75.0\n",
      "81.0\n",
      "87.0\n",
      "93.0\n",
      "99.0\n"
     ]
    }
   ],
   "source": [
    "# Exercise 5.4b \n",
    "\n",
    "import numpy as np \n",
    "\n",
    "A = np.linspace(1, 100, 100)\n",
    "N = len(A)\n",
    "for i in range(N): \n",
    "    if A[i] % 3 == 0 and not A[i] % 2 == 0:\n",
    "        print(A[i])"
   ]
  },
  {
   "cell_type": "markdown",
   "id": "69aa1133-9308-4bf2-9eb2-16d1bf963d97",
   "metadata": {},
   "source": [
    "**Exercise 5.5b**\n",
    "\n",
    "Make an array A = np.linspace(-10, 10, 25). Use a for loop and array indexing to create an array B whose elements are the same as A, but in reverse order."
   ]
  },
  {
   "cell_type": "code",
   "execution_count": 15,
   "id": "d3cf7e75-f369-4b18-9ea8-7c47477a0fe7",
   "metadata": {},
   "outputs": [
    {
     "name": "stdout",
     "output_type": "stream",
     "text": [
      "[-10.          -9.16666667  -8.33333333  -7.5         -6.66666667\n",
      "  -5.83333333  -5.          -4.16666667  -3.33333333  -2.5\n",
      "  -1.66666667  -0.83333333   0.           0.83333333   1.66666667\n",
      "   2.5          3.33333333   4.16666667   5.           5.83333333\n",
      "   6.66666667   7.5          8.33333333   9.16666667  10.        ]\n",
      "[ 10.           9.16666667   8.33333333   7.5          6.66666667\n",
      "   5.83333333   5.           4.16666667   3.33333333   2.5\n",
      "   1.66666667   0.83333333   0.          -0.83333333  -1.66666667\n",
      "  -2.5         -3.33333333  -4.16666667  -5.          -5.83333333\n",
      "  -6.66666667  -7.5         -8.33333333  -9.16666667 -10.        ]\n"
     ]
    }
   ],
   "source": [
    "# Exercise 5.5b \n",
    "\n",
    "import numpy as np\n",
    "\n",
    "A = np.linspace(-10, 10, 25)\n",
    "N = len(A)\n",
    "B = []\n",
    "\n",
    "for i in range(N - 1, -1, -1): # Bounds: last element to first element\n",
    "    B.append(A[i])\n",
    "\n",
    "B = np.array(B)\n",
    "\n",
    "print(A)\n",
    "print(B)"
   ]
  },
  {
   "cell_type": "markdown",
   "id": "3e41985f-5a50-4123-a08a-1dcf4c24cdab",
   "metadata": {},
   "source": [
    "**Exercise 5.5c**\n",
    "\n",
    "A ball of clay is dropped from an initial height y0 above the floor. While the ball is in the air, its height as a function of time t is:\n",
    "\n",
    "y(t) = y0 - (1/2)gt^2\n",
    "\n",
    "where g = 9.8m/s^2 is the acceleration due to gravity. When the ball hits the floor it sticks; its height is then y(t) = 0.0. Write a code to plot a graph of y versus t for 0.0 <= t <= 2.0s, using y0 =2.0 m. One way to do this: create an array for t using linspace() and an array for y using the formula above. Then loop through the elements of y and replace all negative values with 0.0."
   ]
  },
  {
   "cell_type": "code",
   "execution_count": 17,
   "id": "e3c67a9d-8757-4a15-a288-22a3c4407e31",
   "metadata": {},
   "outputs": [
    {
     "data": {
      "image/png": "[encoded data removed]",
      "text/plain": [
       "<Figure size 640x480 with 1 Axes>"
      ]
     },
     "metadata": {},
     "output_type": "display_data"
    }
   ],
   "source": [
    "# Exercise 5.5c\n",
    "\n",
    "import numpy as np\n",
    "import matplotlib.pyplot as plt\n",
    " \n",
    "g = 9.8\n",
    "y0 = 2\n",
    "t = np.linspace(0, 2, 200)\n",
    "y = y0 - (0.5 * g * (t ** 2))\n",
    "\n",
    "N = len(y)\n",
    "for i in range(N): \n",
    "    if y[i] < 0:\n",
    "        y[i] = 0\n",
    "\n",
    "plt.close()\n",
    "plt.plot(t, y) \n",
    "plt.title(\"Ball Drop\")\n",
    "plt.xlabel(\"t, time (s)\")\n",
    "plt.ylabel(\"y, position (m)\")\n",
    "plt.show()"
   ]
  },
  {
   "cell_type": "markdown",
   "id": "af8e4866-9b7f-4273-ab5f-cf924ea60ecb",
   "metadata": {},
   "source": [
    "**Exercise 5.6**\n",
    "\n",
    "How many numbers from 1 through 10000 are divisible by 5, but not by 7?\n",
    "\n",
    "- 1715 Numbers"
   ]
  },
  {
   "cell_type": "code",
   "execution_count": 18,
   "id": "7a58c441-a5d4-4dfd-9bd7-fd601b7e71e4",
   "metadata": {},
   "outputs": [
    {
     "name": "stdout",
     "output_type": "stream",
     "text": [
      "1715\n"
     ]
    }
   ],
   "source": [
    "# Exercise 5.6 Code \n",
    "\n",
    "count = 0\n",
    "for i in range(1, 10000 + 1): \n",
    "    if i % 5 == 0 and not i % 7 == 0: \n",
    "        count = count + 1\n",
    "\n",
    "print(count)"
   ]
  },
  {
   "cell_type": "markdown",
   "id": "ff7e3ba2-0003-4282-a10d-479af6405221",
   "metadata": {},
   "source": [
    "**Exercise 5.7a**\n",
    "\n",
    "Write a program that creates an array of numbers from N1 through N2 that are divisible either by 3 or by 5, but not both. Use the NumPy append() function. Add a counter to determine the number of such numbers."
   ]
  },
  {
   "cell_type": "code",
   "execution_count": 21,
   "id": "5a3de1e6-48b3-49e4-bcbb-360d71316828",
   "metadata": {},
   "outputs": [
    {
     "name": "stdout",
     "output_type": "stream",
     "text": [
      "41\n",
      "[  3.   5.   6.   9.  10.  12.  18.  20.  21.  24.  25.  27.  33.  35.\n",
      "  36.  39.  40.  42.  48.  50.  51.  54.  55.  57.  63.  65.  66.  69.\n",
      "  70.  72.  78.  80.  81.  84.  85.  87.  93.  95.  96.  99. 100.]\n"
     ]
    }
   ],
   "source": [
    "# Exercise 5.7a Code\n",
    "\n",
    "import numpy as np\n",
    "\n",
    "N1 = 0 # adjustable value\n",
    "N2 = 100 # adjustable value\n",
    "\n",
    "A = []\n",
    "count = 0\n",
    "\n",
    "for i in range(N1, N2 + 1):\n",
    "    if (i % 3 == 0 and i % 5 != 0) or (i % 5 == 0 and i % 3 != 0):\n",
    "        A = np.append(A, i)\n",
    "        count = count + 1\n",
    "\n",
    "print(count)\n",
    "print(A)\n",
    "    "
   ]
  },
  {
   "cell_type": "markdown",
   "id": "6689f588-ca5b-4433-bbbf-29cb5fc29778",
   "metadata": {},
   "source": [
    "**Exercise 5.9a**\n",
    "\n",
    "The Fibonacci sequence is defined by the recurrence relation: \n",
    "\n",
    "    F0 = 0 \n",
    "    F1 = 1\n",
    "    Fn = F(n-1) + F(n-2) \n",
    "\n",
    "where n is an integer greater than 1. The first few terms in the sequence are 0,1,1,2,3,5,8,.... Write a code to compute the Fibonacci sequence up to n = 100 and plot log(Fn) versus n. Find the slope of the curve near n = 100. According to Binet’s formula, the slope should approach log(phi), for large n, where phi = (1 + sqrt(5))/2 is the golden ratio. "
   ]
  },
  {
   "cell_type": "code",
   "execution_count": 44,
   "id": "187963ce-5c25-4035-afdf-0502089d244d",
   "metadata": {},
   "outputs": [
    {
     "data": {
      "image/png": "[encoded data removed]",
      "text/plain": [
       "<Figure size 640x480 with 1 Axes>"
      ]
     },
     "metadata": {},
     "output_type": "display_data"
    },
    {
     "name": "stdout",
     "output_type": "stream",
     "text": [
      "0.4812118250596029\n",
      "0.48121182505960347\n"
     ]
    }
   ],
   "source": [
    "# Exercise 5.9a \n",
    "\n",
    "import numpy as np\n",
    "import matplotlib.pyplot as plt \n",
    "\n",
    "F = []\n",
    "F = np.append(F, 0)\n",
    "F = np.append(F, 1)\n",
    "\n",
    "for i in range(2, 100 + 1):\n",
    "    F = np.append(F, F[i - 1] + F[i - 2])\n",
    "\n",
    "# Plot \n",
    "\n",
    "n = np.linspace(0, 100, 101)\n",
    "Flog = np.log(F + 1e-12) # To avoid log(0) error\n",
    "\n",
    "plt.close()\n",
    "plt.plot(n, Flog)\n",
    "plt.title(\"Fibonacci Sequence\")\n",
    "plt.xlabel(\"n\")\n",
    "plt.ylabel(\"log Fn\")\n",
    "plt.show()\n",
    "\n",
    "# Slope (Flog[100] - Flog[99]/(100 - 99))\n",
    "\n",
    "slope = Flog[100] - Flog[99]\n",
    "print(slope)\n",
    "\n",
    "phi = (1 + np.sqrt(5)) / 2\n",
    "print(np.log(phi))\n"
   ]
  },
  {
   "cell_type": "code",
   "execution_count": null,
   "id": "0839c6ea-ff1e-4923-8f89-463458d6463c",
   "metadata": {},
   "outputs": [],
   "source": []
  }
 ],
 "metadata": {
  "kernelspec": {
   "display_name": "Python 3 (ipykernel)",
   "language": "python",
   "name": "python3"
  },
  "language_info": {
   "codemirror_mode": {
    "name": "ipython",
    "version": 3
   },
   "file_extension": ".py",
   "mimetype": "text/x-python",
   "name": "python",
   "nbconvert_exporter": "python",
   "pygments_lexer": "ipython3",
   "version": "3.12.2"
  }
 },
 "nbformat": 4,
 "nbformat_minor": 5
}
