{
 "cells": [
  {
   "cell_type": "markdown",
   "id": "057be57b-0a22-4407-8373-54271a5da44d",
   "metadata": {},
   "source": [
    "**Exercise 11.1b**\n",
    "\n",
    "Let g = 9.8, k = 0.2 and v0 = 35.0 (in SI units) in Eq.(11.2). Write a Python program that uses the algorithm described above to solve y(t) = 0. Start with an initial guess close to 0 and use a time step size of 0.00001. Use your result to determine how fast the ball is moving when it reaches the ground."
   ]
  },
  {
   "cell_type": "code",
   "execution_count": 17,
   "id": "0dd30441-9f88-40f4-9a96-914713512fff",
   "metadata": {},
   "outputs": [
    {
     "name": "stdout",
     "output_type": "stream",
     "text": [
      "Time when ball hits the ground: 5.9787899999970175\n",
      "Velocity when ball hits the ground: -23.5921343119435\n"
     ]
    }
   ],
   "source": [
    "import sympy as sp\n",
    "\n",
    "g = 9.8\n",
    "k = 0.2 \n",
    "v0 = 35.0\n",
    "\n",
    "t = sp.symbols('t')\n",
    "y = (v0 / k + g / k**2) * (1 - sp.exp(-k * t)) - (g / k) * t\n",
    "\n",
    "t_guess = 5.9 #guess close to 0, I originally guessed 2, but I changed it to 5.9 for speed \n",
    "step = 0.00001\n",
    "\n",
    "y_t = y.subs(t, t_guess)\n",
    "while (y_t > 0):\n",
    "    t_guess += step\n",
    "    y_t = y.subs(t, t_guess)\n",
    "\n",
    "print(\"Time when ball hits the ground:\", t_guess)\n",
    "\n",
    "v = sp.diff(y, t)\n",
    "v_t = v.subs(t, t_guess)\n",
    "print(\"Velocity when ball hits the ground:\", v_t)"
   ]
  },
  {
   "cell_type": "markdown",
   "id": "7925dd22-282f-4df2-948b-182757243b7a",
   "metadata": {},
   "source": [
    "**Exercise 11.3a**\n",
    "\n",
    "Use bisection to solve the equation\n",
    "\n",
    "    exp ( x ** 2 ) - x = 0,\n",
    "\n",
    "with a tolerance of epsilon = 0.0001."
   ]
  },
  {
   "cell_type": "code",
   "execution_count": null,
   "id": "c072ce13-6f2f-4f18-854a-91c14e827f2a",
   "metadata": {},
   "outputs": [],
   "source": []
  }
 ],
 "metadata": {
  "kernelspec": {
   "display_name": "Python 3 (ipykernel)",
   "language": "python",
   "name": "python3"
  },
  "language_info": {
   "codemirror_mode": {
    "name": "ipython",
    "version": 3
   },
   "file_extension": ".py",
   "mimetype": "text/x-python",
   "name": "python",
   "nbconvert_exporter": "python",
   "pygments_lexer": "ipython3",
   "version": "3.12.2"
  }
 },
 "nbformat": 4,
 "nbformat_minor": 5
}
