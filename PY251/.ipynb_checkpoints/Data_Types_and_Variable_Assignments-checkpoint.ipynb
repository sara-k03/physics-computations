{
 "cells": [
  {
   "cell_type": "markdown",
   "id": "ebfd7900-724a-47a5-a3fa-121d87843fbc",
   "metadata": {},
   "source": [
    "**Exercise 6.1c**\n",
    "\n",
    "Let C and D denote two strings of equal length. Write a code that will interleave these strings together. For example, if C = \"cat\" and D = \"dog\", the resulting string should be \"cdaotg\". Your code should work with other pairs of strings, such as C = \"orange\" and D = \"purple\"."
   ]
  },
  {
   "cell_type": "code",
   "execution_count": 1,
   "id": "39898a8a-b4bf-47df-9313-e5a3a05d8063",
   "metadata": {},
   "outputs": [
    {
     "name": "stdout",
     "output_type": "stream",
     "text": [
      "cdaotg\n"
     ]
    }
   ],
   "source": [
    "# Exercise 6.1c Code\n",
    "\n",
    "C = \"cat\" # adjustable\n",
    "D = \"dog\" # adjustable\n",
    "interleave = \"\"\n",
    "\n",
    "for i in range(len(C)):\n",
    "    interleave = interleave + C[i]\n",
    "    interleave = interleave + D[i]\n",
    "\n",
    "print(interleave)"
   ]
  },
  {
   "cell_type": "markdown",
   "id": "0e9b5311-e6a5-4e9e-9522-4c308dda29e6",
   "metadata": {},
   "source": [
    "**Exercise 6.2c**\n",
    "\n",
    "Write a program that will ask the user to input a positive integer n, then create an n⇥n multiplication table. For n = 3, the output should appear as\n",
    "\n",
    "    [[1. 2. 3.] \n",
    "     [2. 4. 6.]\n",
    "     [3. 6. 9.]]"
   ]
  },
  {
   "cell_type": "code",
   "execution_count": 8,
   "id": "f3f82be9-3ef2-42fb-9b8c-9c8ea5a3655f",
   "metadata": {},
   "outputs": [
    {
     "name": "stdin",
     "output_type": "stream",
     "text": [
      " 3\n"
     ]
    },
    {
     "name": "stdout",
     "output_type": "stream",
     "text": [
      "[[1. 2. 3.]\n",
      " [2. 4. 6.]\n",
      " [3. 6. 9.]]\n"
     ]
    }
   ],
   "source": [
    "# Exercise 6.2c Code\n",
    "\n",
    "import numpy as np\n",
    "\n",
    "n = int(input())\n",
    "m = np.zeros((n, n))\n",
    "\n",
    "for i in range(n):\n",
    "    m[i][0] = i + 1\n",
    "    for j in range(1, n):\n",
    "        m[i][j] = m[i][j - 1] + (i + 1)\n",
    "\n",
    "print(m)"
   ]
  },
  {
   "cell_type": "markdown",
   "id": "50630fcb-ef0e-4a41-98eb-23dde812c098",
   "metadata": {},
   "source": [
    "**Exercise 6.4b**\n",
    "\n",
    "Find all powers of 2 through 2^100 that do not contain the digit 3. (Powers of 2 are numbers of the form 2^n with n a positive integer; that is, 2, 4, 8, 16, etc.) How many such numbers are there? What is the largest?"
   ]
  },
  {
   "cell_type": "code",
   "execution_count": 15,
   "id": "faa325cd-1eb2-4050-93aa-534ddea10c26",
   "metadata": {},
   "outputs": [
    {
     "name": "stdout",
     "output_type": "stream",
     "text": [
      "Count: 31\n",
      "Largest: 4951760157141521099596496896\n"
     ]
    }
   ],
   "source": [
    "# Exercise 6.4b \n",
    "\n",
    "count = 0\n",
    "largest = 0\n",
    "for i in range(1, 100 + 1): \n",
    "    n = 2 ** i\n",
    "    n_str = str(n)\n",
    "    has_three = False\n",
    "    for j in range(len(n_str)):\n",
    "        if n_str[j] == \"3\":\n",
    "            has_three = True\n",
    "    if not has_three:\n",
    "        count = count + 1\n",
    "        if n > largest:\n",
    "            largest = n\n",
    "\n",
    "print(\"Count:\", count)\n",
    "print(\"Largest:\", largest)"
   ]
  },
  {
   "cell_type": "markdown",
   "id": "7dacdb45-5d80-48c0-8953-f280ebbb6b26",
   "metadata": {},
   "source": [
    "**Exercise 6.5a**\n",
    "\n",
    "Run the program \n",
    "\n",
    "    x = 5.1 # assign value to x\n",
    "    y = x # set y equal to x\n",
    "    x = 3.7 # modify x \n",
    "    print(x, y)\n",
    "\n",
    "What are the final values of x and y? Are the results what you expected?\n",
    "\n",
    "x = 3.7 \n",
    "y = 5.1 \n",
    "\n",
    "The values are what I expected because y gets set to the original x value first, and then x gets changed to a new value. "
   ]
  },
  {
   "cell_type": "code",
   "execution_count": 16,
   "id": "0abefa37-9735-407c-8906-ace31772e5e1",
   "metadata": {},
   "outputs": [
    {
     "name": "stdout",
     "output_type": "stream",
     "text": [
      "3.7 5.1\n"
     ]
    }
   ],
   "source": [
    "# Exercise 6.5a Code\n",
    "\n",
    "x = 5.1 # assign value to x\n",
    "y = x # set y equal to x\n",
    "x = 3.7 # modify x \n",
    "print(x, y)"
   ]
  },
  {
   "cell_type": "markdown",
   "id": "28eb0d7a-d5d9-48c9-aa3b-0d266b3136cb",
   "metadata": {},
   "source": [
    "**Exercise 6.6**\n",
    "\n",
    "Experiment with the program \n",
    "\n",
    "    x = np.linspace(0.0, 4.0, 5)\n",
    "    y = x # modify or replace the x or y array\n",
    "    print(x,y)\n",
    "\n",
    "What happens if you replace every element of x individually?\n",
    "\n",
    "Both the elements in x and y change. \n",
    "\n",
    "What happens if you replace one or more elements of y?\n",
    "\n",
    "Both the elements in x and y change. \n",
    "\n",
    "What happens if you replace y with a new array?\n",
    "\n",
    "Only the y array changes. "
   ]
  },
  {
   "cell_type": "code",
   "execution_count": 23,
   "id": "42911799-d6ba-443c-baec-a8fb6ad1bc8c",
   "metadata": {},
   "outputs": [
    {
     "name": "stdout",
     "output_type": "stream",
     "text": [
      "[0. 1. 2. 3. 4.] [1. 2. 3. 4. 5.]\n"
     ]
    }
   ],
   "source": [
    "# Exercise 6.6 \n",
    "\n",
    "import numpy as np \n",
    "\n",
    "x = np.linspace(0.0, 4.0, 5)\n",
    "y = x # modify or replace the x or y array\n",
    "\n",
    "# Replace every element of x individually \n",
    "# x[0] = 5\n",
    "# x[1] = 6\n",
    "# x[2] = 7\n",
    "# x[3] = 8\n",
    "\n",
    "# Replacing an element of y \n",
    "# y[0] = 1\n",
    "# y[1] = 2\n",
    "\n",
    "# Replacing y with a new array\n",
    "y = np.linspace(1.0, 5.0, 5)\n",
    "\n",
    "print(x,y)"
   ]
  },
  {
   "cell_type": "markdown",
   "id": "4322d987-75b6-40de-ac84-d98266f17afd",
   "metadata": {},
   "source": [
    "**Exercise 6.7a**\n",
    "\n",
    "Create a NumPy array x and use copy() to copy the array to y. \n",
    "\n",
    "What happens to each array if you change the value of x[1]? \n",
    "\n",
    "The second element of the x array changes. The y array is not impacted. \n",
    "\n",
    "If you change the value of y[3]?\n",
    "\n",
    "The fourth element of the y array changes. The x array is not impacted. "
   ]
  },
  {
   "cell_type": "code",
   "execution_count": 26,
   "id": "d404ad07-fa36-48a3-a3fd-2f7d2422f182",
   "metadata": {},
   "outputs": [
    {
     "name": "stdout",
     "output_type": "stream",
     "text": [
      "x: [0. 1. 2. 3. 4.]\n",
      "y: [0. 1. 2. 3. 4.]\n",
      "x: [0. 1. 2. 3. 4.]\n",
      "y: [0. 1. 2. 0. 4.]\n"
     ]
    }
   ],
   "source": [
    "# Exercise 6.7a Code \n",
    "\n",
    "import numpy as np \n",
    "\n",
    "x = np.linspace(0.0, 4.0, 5)\n",
    "y = np.copy(x)\n",
    "\n",
    "print(\"x:\", x)\n",
    "print(\"y:\", y)\n",
    "\n",
    "# x[1] = 0\n",
    "y[3] = 0\n",
    "\n",
    "print(\"x:\", x)\n",
    "print(\"y:\", y)"
   ]
  },
  {
   "cell_type": "markdown",
   "id": "ab0c6d47-518f-482b-8433-e6e6f4dd525b",
   "metadata": {},
   "source": [
    "**Exercise 6.8c**\n",
    "\n",
    "Create a cellular automaton code that uses these rules:\n",
    "\n",
    "- If cell j is off (0), flip it to on (+1).\n",
    "- If j is on and its nearest neighbors j-1 and j+1 are the same, leave j alone.\n",
    "- If j is on and its nearest neighbors j-1 and j+1 are different, flip j to off.\n",
    "\n",
    "Plot the evolution. "
   ]
  },
  {
   "cell_type": "code",
   "execution_count": 40,
   "id": "44fa4e73-0743-4144-801e-9242974c5993",
   "metadata": {},
   "outputs": [
    {
     "data": {
      "image/png": "[encoded data removed]",
      "text/plain": [
       "<Figure size 640x480 with 1 Axes>"
      ]
     },
     "metadata": {},
     "output_type": "display_data"
    }
   ],
   "source": [
    "# Exercise 6.8c\n",
    "\n",
    "import numpy as np\n",
    "import matplotlib.pyplot as plt\n",
    "\n",
    "# Initialize cellular automaton\n",
    "C = np.zeros(20, dtype=int)\n",
    "\n",
    "# Flip a couple of cells\n",
    "C[1] = 1\n",
    "C[5] = 1\n",
    "\n",
    "# Plot initial\n",
    "plt.close()\n",
    "for j in range(20):\n",
    "    if C[j] == 1:\n",
    "        plt.plot(j, 0, 'r*')\n",
    "\n",
    "# 5 Steps of rules\n",
    "for i in range(1, 5 + 1):\n",
    "    D = np.copy(C)\n",
    "    for j in range(1, 19):\n",
    "        if D[j] == 0:\n",
    "            C[j] = 1\n",
    "        elif D[j-1] != D[j+1]:\n",
    "            C[j] = 0\n",
    "        else: \n",
    "            C[j] = D[j]\n",
    "\n",
    "    # Plot\n",
    "    for j in range(20):\n",
    "        if C[j] == 1:\n",
    "            plt.plot(j, i, 'r*')\n",
    "        \n",
    "# Plot labels\n",
    "plt.xlabel(\"Cell index\")\n",
    "plt.ylabel(\"Iteration\")\n",
    "plt.title(\"Exercise 6.8c\")\n",
    "plt.show()"
   ]
  },
  {
   "cell_type": "code",
   "execution_count": null,
   "id": "dfc50b9a-bd9e-4fbd-9d02-1744d687b98f",
   "metadata": {},
   "outputs": [],
   "source": []
  }
 ],
 "metadata": {
  "kernelspec": {
   "display_name": "Python 3 (ipykernel)",
   "language": "python",
   "name": "python3"
  },
  "language_info": {
   "codemirror_mode": {
    "name": "ipython",
    "version": 3
   },
   "file_extension": ".py",
   "mimetype": "text/x-python",
   "name": "python",
   "nbconvert_exporter": "python",
   "pygments_lexer": "ipython3",
   "version": "3.12.2"
  }
 },
 "nbformat": 4,
 "nbformat_minor": 5
}
