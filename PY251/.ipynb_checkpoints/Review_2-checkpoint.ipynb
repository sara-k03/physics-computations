{
 "cells": [
  {
   "cell_type": "markdown",
   "id": "12e1d66f-06ad-4f35-9403-b1844b404bbf",
   "metadata": {},
   "source": [
    "Let the user input a positive integer $N$. Create an array of $N$ random numbers from $0$ (inclusive) to $1$ (exclusive). Separate the array into a \"small\" array with all numbers less than $0.5$, and a \"large\" array with all numbers greater than or equal to $0.5$. "
   ]
  },
  {
   "cell_type": "code",
   "execution_count": 7,
   "id": "c96a5e2f-f06c-4715-a533-5f8f0fc3e23b",
   "metadata": {},
   "outputs": [
    {
     "name": "stdin",
     "output_type": "stream",
     "text": [
      "input an integer: 5\n"
     ]
    },
    {
     "name": "stdout",
     "output_type": "stream",
     "text": [
      "[0.20033571 0.87724121 0.17147176 0.79544242 0.78845993]\n",
      "[0.20033571 0.17147176]\n"
     ]
    }
   ],
   "source": [
    "import numpy as np\n",
    "\n",
    "N = input(\"input an integer:\")\n",
    "N = int(N)\n",
    "\n",
    "myrng = np.random.default_rng()\n",
    "A = []\n",
    "for i in range(1,N+1):\n",
    "    A = np.append(A,myrng.uniform(0,1))\n",
    "print(A)\n",
    "\n",
    "\n",
    "\n",
    "\n",
    "small = []\n",
    "for i in range(0,N):\n",
    "    if A[i] < 0.5:\n",
    "        small = np.append(small,A[i])\n",
    "print(small)\n"
   ]
  },
  {
   "cell_type": "markdown",
   "id": "7dd00165-dd77-481e-8d1b-b3a595fcc346",
   "metadata": {},
   "source": [
    "Create a function definition for $F(N) = \\sum_{k=1}^N k^{-N/2}$. Evaluate $F(N)$ for $N = 1,\\ldots 10$. "
   ]
  },
  {
   "cell_type": "code",
   "execution_count": 2,
   "id": "ad633eef-7b0d-406d-9c0c-fe9e1ad69917",
   "metadata": {},
   "outputs": [
    {
     "name": "stdout",
     "output_type": "stream",
     "text": [
      "1.0\n",
      "1.5\n",
      "1.546003480323149\n",
      "1.4236111111111112\n",
      "1.2900652690265937\n",
      "1.1902916666666665\n",
      "1.1241538753365086\n",
      "1.0817841677034807\n",
      "1.054600169689789\n",
      "1.0369073413446939\n"
     ]
    }
   ],
   "source": [
    "import numpy as np\n",
    "\n",
    "def F(N):\n",
    "    total = 0\n",
    "    for k in range(1,N+1):\n",
    "        total = total + k**(-N/2)\n",
    "    return total\n",
    "\n",
    "for N in range(1,11):\n",
    "    print(F(N))\n",
    "    \n",
    "    \n",
    "    "
   ]
  },
  {
   "cell_type": "markdown",
   "id": "94db1240-b8a2-4be7-9cf0-746f55ec8e53",
   "metadata": {},
   "source": [
    "Use the series \n",
    "$$ \\sin x = x - \\frac{x^3}{3!} + \\frac{x^5}{5!} - \\frac{x^7}{7!} + \\cdots$$\n",
    "to approximate $\\sin x$. Have your code keep adding terms until the \n",
    "terms become smaller than $10^{-6}$. "
   ]
  },
  {
   "cell_type": "code",
   "execution_count": null,
   "id": "c65c4a43-8268-44ba-8d94-3cb29811f840",
   "metadata": {},
   "outputs": [],
   "source": []
  }
 ],
 "metadata": {
  "kernelspec": {
   "display_name": "Python 3 (ipykernel)",
   "language": "python",
   "name": "python3"
  },
  "language_info": {
   "codemirror_mode": {
    "name": "ipython",
    "version": 3
   },
   "file_extension": ".py",
   "mimetype": "text/x-python",
   "name": "python",
   "nbconvert_exporter": "python",
   "pygments_lexer": "ipython3",
   "version": "3.11.3"
  }
 },
 "nbformat": 4,
 "nbformat_minor": 5
}
