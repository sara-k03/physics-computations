{
 "cells": [
  {
   "cell_type": "markdown",
   "id": "ba3e4bfe-27f2-4b91-9f79-13afc6e99f70",
   "metadata": {},
   "source": [
    "Exercise here"
   ]
  },
  {
   "cell_type": "code",
   "execution_count": 2,
   "id": "a2b6a472-379e-40de-88c9-14a410fa4940",
   "metadata": {},
   "outputs": [
    {
     "name": "stdout",
     "output_type": "stream",
     "text": [
      "N = 1 -> 1.0\n",
      "N = 2 -> 1.5\n",
      "N = 3 -> 1.546003480323149\n",
      "N = 4 -> 1.4236111111111112\n",
      "N = 5 -> 1.2900652690265937\n",
      "N = 6 -> 1.1902916666666665\n",
      "N = 7 -> 1.1241538753365086\n",
      "N = 8 -> 1.0817841677034807\n",
      "N = 9 -> 1.054600169689789\n"
     ]
    }
   ],
   "source": [
    "import numpy as np\n",
    "\n",
    "def F(N):\n",
    "    total = 0\n",
    "    for k in range(1, N + 1): # N + 1 not included \n",
    "        total = total + k ** (N / -2)\n",
    "    return total\n",
    "\n",
    "for i in range(1, 10):\n",
    "    print(\"N =\", i, \"->\", F(i))"
   ]
  },
  {
   "cell_type": "markdown",
   "id": "56a40a0e-b13f-4915-a765-c8e4664a5d33",
   "metadata": {},
   "source": [
    "Let the user input a positive integer N. Create an array of N random numbers from 0 (inclusive) to 1 (exclusive). Separate the array into a \"small\" array with all numbers less than 0.5, and a \"large\" array with all numbers greater than or equal to 0.5."
   ]
  },
  {
   "cell_type": "code",
   "execution_count": 7,
   "id": "ecb648b6-8449-4572-bbb1-445a855a6a3f",
   "metadata": {},
   "outputs": [
    {
     "name": "stdin",
     "output_type": "stream",
     "text": [
      "Input an integer:  3\n"
     ]
    },
    {
     "name": "stdout",
     "output_type": "stream",
     "text": [
      "[0.91244811 0.96615491 0.98403338]\n",
      "[0.56939685 0.01840713 0.82888192]\n"
     ]
    }
   ],
   "source": [
    "import numpy as np \n",
    "\n",
    "N = int(input(\"Input an integer: \"))\n",
    "\n",
    "myrng = np.random.default_rng()\n",
    "A = []\n",
    "for i in range(N):\n",
    "    A = np.append(A, myrng.uniform(0, 1))\n",
    "print(A)\n",
    "\n",
    "# Quicker way to do it\n",
    "# B = myrng.uniform(0, 1, 3)\n",
    "# print(B)\n",
    "\n",
    "\n"
   ]
  },
  {
   "cell_type": "code",
   "execution_count": null,
   "id": "e1db82d6-467d-4b99-b814-6f41f21c6771",
   "metadata": {},
   "outputs": [],
   "source": []
  }
 ],
 "metadata": {
  "kernelspec": {
   "display_name": "Python 3 (ipykernel)",
   "language": "python",
   "name": "python3"
  },
  "language_info": {
   "codemirror_mode": {
    "name": "ipython",
    "version": 3
   },
   "file_extension": ".py",
   "mimetype": "text/x-python",
   "name": "python",
   "nbconvert_exporter": "python",
   "pygments_lexer": "ipython3",
   "version": "3.12.2"
  }
 },
 "nbformat": 4,
 "nbformat_minor": 5
}
