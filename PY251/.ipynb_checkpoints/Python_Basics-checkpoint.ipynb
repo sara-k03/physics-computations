{
 "cells": [
  {
   "cell_type": "markdown",
   "id": "be703acc-2c70-48c6-a626-44de14b10a17",
   "metadata": {},
   "source": [
    "Exercise 2.3: \n",
    "Evaluate the expressions 7/4, 7//4 and 7%4. What are the results? Replace the integers 7 and 4 with real numbers 7.0 and 4.0. Do the results change?\n",
    "\n",
    "7/4 = 1.75 \n",
    "7//4 = 1\n",
    "7 % 4 = 3\n",
    "\n",
    "Once you replace the integers, the the last two results do change. They now return decimal values rather than integers. "
   ]
  },
  {
   "cell_type": "code",
   "execution_count": null,
   "id": "5d21ec6a-750d-4ad5-a999-e6ad82f6df68",
   "metadata": {},
   "outputs": [],
   "source": [
    "# Exercise 2.3 Python Code \n",
    "print(7 / 4) # Result: 1.75\n",
    "print(7 // 4) # Result: 1\n",
    "print(7 % 4) # Result: 3\n",
    "\n",
    "# Replacing 7 and 4 with 7.0 and 4.0: \n",
    "print(7.0 / 4.0) # Result: 1.75\n",
    "print(7.0 // 4.0) # Result: 1.0\n",
    "print(7.0 % 4.0) # Result: 3.0"
   ]
  },
  {
   "cell_type": "markdown",
   "id": "6cd8e121-e8e2-4f5e-bae0-9c0a30b9e804",
   "metadata": {},
   "source": [
    "Exercise 2.4\n",
    "\n",
    "Do NumPy trig functions use radians or degrees?\n",
    "Radians. When you enter sin(30) into the calculator when it's on radian mode, it returns the same value that the numpy code returns. \n",
    "\n",
    "What is the base of the numpy.log() function?\n",
    "Euler's number, e, since numpy.log(numpy.e) returns 1. \n",
    "\n",
    "What is the base of numpy.log10()?\n",
    "10, since numpy.log10(10) returns 1. "
   ]
  },
  {
   "cell_type": "code",
   "execution_count": null,
   "id": "a718c283-b470-4362-8c88-673d152e143b",
   "metadata": {},
   "outputs": [],
   "source": [
    "# Exercise 2.4 Python Code\n",
    "import numpy\n",
    "\n",
    "print(numpy.sqrt(2.0))\n",
    "print(numpy.sqrt(25.0))\n",
    "print(numpy.sin(30))\n",
    "print(numpy.sin(numpy.pi))\n",
    "print(numpy.cos(45))\n",
    "print(numpy.cos(numpy.pi/2))\n",
    "print(numpy.exp(1.0))\n",
    "print(numpy.exp(3.0))\n",
    "print(numpy.log(numpy.e))\n",
    "print(numpy.log(numpy.e * numpy.e))\n",
    "print(numpy.log10(10))\n",
    "print(numpy.log10(100))"
   ]
  },
  {
   "cell_type": "markdown",
   "id": "0966d4a2-1df5-4a0f-a7b1-0356d9cb6d35",
   "metadata": {},
   "source": [
    "Exercise 2.6c:\n",
    "\n",
    "Assume that x has been assigned the value 13. Which of these Python statements is valid? Invalid? Why? \n",
    "\n",
    "• x2x = x*2*x --> This is valid. x2x is a variable that is getting assigned a numerical value. \n",
    "• x = x + \"banana\" --> Invalid. This tries to concatenate an integer and a string. \n",
    "• banana = \"3 + 5\" --> Valid. A string is assigned to a variable that is called banana. \n",
    "• y = z = 27 --> Valid. 27 is assigned to z and z is assigned to y. \n",
    "• 4=4 --> Invalid. You can't assign a literal value to another literal value. \n",
    "• y = 6 = 13 --> Invalid for the same reason 4 = 4 is invalid. The compiler is attempting to assign 13 to 6. \n",
    "• apple&orange = \"fruit\" --> Invalid because apple&orange is not a valid variable name"
   ]
  },
  {
   "cell_type": "code",
   "execution_count": null,
   "id": "125962c0-603d-4ed3-8102-7578a0c59e5c",
   "metadata": {},
   "outputs": [],
   "source": [
    "# Exercise 2.6c Code\n",
    "x = 13\n",
    "\n",
    "x2x = x*2*x \n",
    "# x = x + \"banana\"\n",
    "banana = \"3 + 5\"\n",
    "y = z = 27\n",
    "# 4 = 4\n",
    "# y = 6 = 13 \n",
    "# apple&orange = \"fruit\""
   ]
  },
  {
   "cell_type": "markdown",
   "id": "82564997-cdf3-4255-baf0-4882dc90f6cd",
   "metadata": {},
   "source": [
    "Exercises 2.7 to 2.9: \n",
    "2.7: Experiment with different values. \n",
    "2.8: Modify projectile code to include user input for time t and the components of velocity, v0x and v0y.\n",
    "2.9: Modify the print() statements in your projectile code so that the results are displayed to 5 decimal places."
   ]
  },
  {
   "cell_type": "code",
   "execution_count": null,
   "id": "fbf7d906-702e-48e6-8123-1c48232bb1f9",
   "metadata": {},
   "outputs": [],
   "source": [
    "# Exercises 2.7 to 2.9 Code\n",
    "\n",
    "# Position of a projectile near Earth at time t\n",
    "\n",
    "x0 = 0.0 # x-component of initial position (m)\n",
    "y0 = 5.0  # y-component of initial position (m)\n",
    "# v0x = 10.0 # x-component of initial velocity (m/s), commented out for user input\n",
    "# v0y = 15.0 # y-component of initial velocity (m/s), commented out for user input\n",
    "g = 9.8 # acceleration due to gravity (m/s**2)\n",
    "# t = 2.0 # time (s), commented out for user input\n",
    "t, v0x, v0y = input(\"Choose t, v0x, v0y: \").split()\n",
    "t = float(t)\n",
    "v0x = float(v0x)\n",
    "v0y = float(v0y)\n",
    "\n",
    "# Compute the position at time t\n",
    "x = x0 + v0x*t\n",
    "y = y0 + v0y*t- 0.5*g*t**2\n",
    "\n",
    "# Print the results \n",
    "print(\"Position at t = \", f\"{t:.5f}\", \"seconds:\") \n",
    "print(\"x = \", f\"{x:.5f}\", \"meters\") \n",
    "print(\"y = \", f\"{y:.5f}\", \"meters\")"
   ]
  },
  {
   "cell_type": "markdown",
   "id": "3216d7fd-0ceb-4b1e-824e-29c1f453ce58",
   "metadata": {},
   "source": [
    "Exercise 2.10: \n",
    "\n",
    "Create two lists in Python and add them. Can you multiply a list by an integer? Can you multiply two lists?\n",
    "\n",
    "Adding two lists puts the elements of both lists into one list. Multiplying a list by an integer, x, creates a list with x added copies of the original list at the end. Multiplying two lists results in an error. "
   ]
  },
  {
   "cell_type": "code",
   "execution_count": null,
   "id": "c764396a-6115-42d6-b635-8258661048d3",
   "metadata": {},
   "outputs": [],
   "source": [
    "# Exercise 2.10 Code\n",
    "\n",
    "list1 = [1, 2, 3]\n",
    "list2 = [4, 5, 6]\n",
    "\n",
    "list_add = list1 + list2 \n",
    "print(list_add)\n",
    "\n",
    "list_mult = 2 * list1\n",
    "print(list_mult)\n",
    "\n",
    "# list_mult2 = list1 * list2\n",
    "# print(list_mult2) # SYNTAX ERROR"
   ]
  },
  {
   "cell_type": "markdown",
   "id": "d992fdf3-3ec9-4b36-8f59-9daeaad9d223",
   "metadata": {},
   "source": [
    "Exercise 2.12: \n",
    "\n",
    "Place y = x + x**2 and print(y) in the first cell of a Jupyter notebook, and x = 3.0 in the second cell. Execute the second cell (shift–enter), then the first. What happens? Now restart Python (often referred to as “restarting the kernel”) and execute the two commands in the opposite order (the order in which they appear). What happens?\n",
    "\n",
    "When executing the second cell and then the first, the first cell prints out \"12.0.\" When executing the first cell first, there is a syntax error. This is because in this case, the variable x has not been declared yet. "
   ]
  },
  {
   "cell_type": "code",
   "execution_count": null,
   "id": "7ca080dc-8b1d-4c61-b38c-66a38b78db4c",
   "metadata": {},
   "outputs": [],
   "source": [
    "# Exercise 2.12 Cell 1\n",
    "\n",
    "y = x + x**2\n",
    "print(y)"
   ]
  },
  {
   "cell_type": "code",
   "execution_count": null,
   "id": "8fd309fa-f92b-4ce2-8a1f-a5997c7bd170",
   "metadata": {},
   "outputs": [],
   "source": [
    "# Exercise 2.12 Cell 2 \n",
    "\n",
    "x = 3.0"
   ]
  }
 ],
 "metadata": {
  "kernelspec": {
   "display_name": "Python 3 (ipykernel)",
   "language": "python",
   "name": "python3"
  },
  "language_info": {
   "codemirror_mode": {
    "name": "ipython",
    "version": 3
   },
   "file_extension": ".py",
   "mimetype": "text/x-python",
   "name": "python",
   "nbconvert_exporter": "python",
   "pygments_lexer": "ipython3",
   "version": "3.12.2"
  }
 },
 "nbformat": 4,
 "nbformat_minor": 5
}
