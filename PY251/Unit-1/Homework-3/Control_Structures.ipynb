{
 "cells": [
  {
   "cell_type": "markdown",
   "id": "558fa1e2-d929-471e-910e-f6a5bee6a752",
   "metadata": {},
   "source": [
    "**Exercise 3.1c**\n",
    "Write a code to compute the square roots of 3, 6, 9, 12 and 15. Use a for loop and a list. Print the results to 4 decimal places."
   ]
  },
  {
   "cell_type": "code",
   "execution_count": 1,
   "id": "cc4174a7-8847-401d-af41-d521b264668b",
   "metadata": {},
   "outputs": [
    {
     "name": "stdout",
     "output_type": "stream",
     "text": [
      "1.7321\n",
      "2.4495\n",
      "3.0000\n",
      "3.4641\n",
      "3.8730\n"
     ]
    }
   ],
   "source": [
    "# Exercise 3.1c Code\n",
    "import math\n",
    "\n",
    "for i in [3, 6, 9, 12, 15]:\n",
    "    print(f\"{math.sqrt(i):.4f}\")"
   ]
  },
  {
   "cell_type": "markdown",
   "id": "b9348944-4cb9-4d6f-9490-e4814634d998",
   "metadata": {},
   "source": [
    "**Exercise 3.2a**\n",
    "Write a program that asks the user to input two integers, n and m, with n > m. The code should compute the product \n",
    "\n",
    "m·(m+1)···(n 1)·n \n",
    "\n",
    "(This is the product of all integers beginning with m and ending with n.) Test your code with small input values to make sure it works correctly."
   ]
  },
  {
   "cell_type": "code",
   "execution_count": 3,
   "id": "39411d7a-d8ab-4621-85aa-f52a6901ad0f",
   "metadata": {},
   "outputs": [
    {
     "name": "stdin",
     "output_type": "stream",
     "text": [
      "Enter the lower bound:  3\n",
      "Enter the upper bound:  5\n"
     ]
    },
    {
     "name": "stdout",
     "output_type": "stream",
     "text": [
      "60\n"
     ]
    }
   ],
   "source": [
    "# Exercise 3.2a Code\n",
    "\n",
    "m = int(input(\"Enter the lower bound: \"))\n",
    "n = int(input(\"Enter the upper bound: \"))\n",
    "\n",
    "product = 1\n",
    "for i in range(m, n + 1):\n",
    "    product = product * i\n",
    "\n",
    "print(product)"
   ]
  },
  {
   "cell_type": "markdown",
   "id": "e76d5e5f-c79f-40e2-ad12-d3489588ecb4",
   "metadata": {},
   "source": [
    "**Exercise 3.2b**\n",
    "Modify the projectile code from Sec. 2.7 to compute the projectile’s position at times t = 1,2,...,5."
   ]
  },
  {
   "cell_type": "code",
   "execution_count": 9,
   "id": "3b105e57-3efa-4923-8f77-f980faab663b",
   "metadata": {},
   "outputs": [
    {
     "name": "stdin",
     "output_type": "stream",
     "text": [
      "Choose v0x:  10\n",
      "Choose v0y:  15\n"
     ]
    },
    {
     "name": "stdout",
     "output_type": "stream",
     "text": [
      "Position at t = 1 seconds:\n",
      "x =  10.00 meters\n",
      "y =  15.10 meters\n",
      "Position at t = 2 seconds:\n",
      "x =  20.00 meters\n",
      "y =  15.40 meters\n",
      "Position at t = 3 seconds:\n",
      "x =  30.00 meters\n",
      "y =  5.90 meters\n",
      "Position at t = 4 seconds:\n",
      "x =  40.00 meters\n",
      "y =  -13.40 meters\n",
      "Position at t = 5 seconds:\n",
      "x =  50.00 meters\n",
      "y =  -42.50 meters\n"
     ]
    }
   ],
   "source": [
    "# Exercise 3.2b Code \n",
    "\n",
    "x0 = 0.0 # x-component of initial position (m)\n",
    "y0 = 5.0  # y-component of initial position (m)\n",
    "g = 9.8 # acceleration due to gravity (m/s**2)\n",
    "v0x = float(input(\"Choose v0x: \")) # x-component of initial velocity (m/s)\n",
    "v0y = float(input(\"Choose v0y: \")) # y-component of initial velocity (m/s)\n",
    "\n",
    "for t in range(1, 6):\n",
    "    # Compute the position at time t\n",
    "    x = x0 + v0x*t\n",
    "    y = y0 + v0y*t- 0.5*g*t**2\n",
    "    \n",
    "    # Print the results \n",
    "    print(\"Position at t =\", t, \"seconds:\") \n",
    "    print(\"x = \", f\"{x:.2f}\", \"meters\") \n",
    "    print(\"y = \", f\"{y:.2f}\", \"meters\")"
   ]
  },
  {
   "cell_type": "markdown",
   "id": "9528cbe8-d73a-4107-89a1-c5b101a83875",
   "metadata": {},
   "source": [
    "**Exercise 3.3c**\n",
    "Write a code to compute the sum all of integers from 1 to a given integer, N. Experiment with di↵erent values of N to find the smallest number N such that S > 10^6.\n",
    "\n",
    "Answer: 1414"
   ]
  },
  {
   "cell_type": "code",
   "execution_count": 24,
   "id": "d5fb46d2-aeb7-48cc-ba1e-bfa39b7bf5ca",
   "metadata": {},
   "outputs": [
    {
     "name": "stdout",
     "output_type": "stream",
     "text": [
      "1000405\n"
     ]
    }
   ],
   "source": [
    "# Exercise 3.3c Code\n",
    "# 10^6 = 1,000,000\n",
    "\n",
    "N = 1414\n",
    "\n",
    "sum = 0\n",
    "for i in range(1, N + 1):\n",
    "    sum = sum + i\n",
    "\n",
    "print(sum)"
   ]
  },
  {
   "cell_type": "markdown",
   "id": "07ff6245-0a6d-4ccb-8ff9-54a104e8fc84",
   "metadata": {},
   "source": [
    "**Exercise 3.4b**\n",
    "Evaluate these conditionals: \n",
    "    • 0 == 5 (False)\n",
    "    • 0 <= 5 (True)\n",
    "    • 0 > 5 (False)\n",
    "    • 6 != 3 (True)\n",
    "    • 3 == 3 (True)\n",
    "    • 6 != 6 (False)\n",
    "    • 2 < 2 (True)\n",
    "    • 2 >= 2 (True)"
   ]
  },
  {
   "cell_type": "markdown",
   "id": "34b05a07-bbc4-4879-b739-d058e221c0d9",
   "metadata": {},
   "source": [
    "**Exercise 3.5b**\n",
    "Write a program that asks the user to input any positive integer n (even or odd) then computes n!!."
   ]
  },
  {
   "cell_type": "code",
   "execution_count": 31,
   "id": "3a0e71e3-d6cd-4c93-bfea-d69fe577e390",
   "metadata": {},
   "outputs": [
    {
     "name": "stdin",
     "output_type": "stream",
     "text": [
      "Enter an integer:  3\n"
     ]
    },
    {
     "name": "stdout",
     "output_type": "stream",
     "text": [
      "3\n"
     ]
    }
   ],
   "source": [
    "# Exercise 3.5b Code\n",
    "\n",
    "n = int(input(\"Enter an integer: \"))\n",
    "\n",
    "sum = 1\n",
    "if n % 2 == 0:\n",
    "    for i in range(2, n + 1, 2):\n",
    "        sum = sum * i\n",
    "else: \n",
    "    for i in range(1, n + 1, 2):\n",
    "        sum = sum * i\n",
    "\n",
    "print(sum)"
   ]
  },
  {
   "cell_type": "markdown",
   "id": "7e95e1df-84da-409c-b242-58075433c3ae",
   "metadata": {},
   "source": [
    "**Exercise 3.7b**\n",
    "Write a Python program to compute the sum of all positive integers 1 through 100 that are divisible by 3 or by 5, but not both."
   ]
  },
  {
   "cell_type": "code",
   "execution_count": 32,
   "id": "2e4ed708-52c7-46d1-83e4-26fc2519d8c4",
   "metadata": {},
   "outputs": [
    {
     "name": "stdout",
     "output_type": "stream",
     "text": [
      "2103\n"
     ]
    }
   ],
   "source": [
    "# Exercise 3.7b Code\n",
    "\n",
    "sum = 0\n",
    "for i in range(1, 101):\n",
    "    if i % 3 == 0 and i % 5 != 0:\n",
    "        sum = sum + i\n",
    "    if i % 5 == 0 and i % 3 != 0:\n",
    "        sum = sum + i\n",
    "\n",
    "print(sum)"
   ]
  },
  {
   "cell_type": "markdown",
   "id": "927ec02c-4132-451e-a31a-8f1c183539de",
   "metadata": {},
   "source": [
    "**Exercise 3.8c**\n",
    "The Leibniz formula for pi (given in the text) is obtained by evaluating the Taylor series for arctan at x = 1. Approximate the infinite series by computing partial sums. How many terms are required for the answer to match pi to 6 decimal places?\n",
    "\n",
    "According to the code below, 1000001 terms are needed. "
   ]
  },
  {
   "cell_type": "code",
   "execution_count": 3,
   "id": "18830833-a7ff-4fab-80b4-ef19fa885306",
   "metadata": {},
   "outputs": [
    {
     "name": "stdout",
     "output_type": "stream",
     "text": [
      "1000001\n"
     ]
    }
   ],
   "source": [
    "# Exercise 3.8c Code\n",
    "\n",
    "import math\n",
    "\n",
    "target_precision = 1e-6  # 6 decimal places\n",
    "pi_actual = math.pi\n",
    "approximation = 0\n",
    "k = 1\n",
    "terms_needed = 0\n",
    "\n",
    "while True:\n",
    "    term = (-1) ** (k + 1) / (2 * k - 1)\n",
    "    approximation += term\n",
    "    pi_approx = 4 * approximation\n",
    "    \n",
    "    if abs(pi_approx - pi_actual) < target_precision:\n",
    "        terms_needed = k\n",
    "        break\n",
    "    \n",
    "    k += 1\n",
    "\n",
    "print(terms_needed)"
   ]
  },
  {
   "cell_type": "code",
   "execution_count": null,
   "id": "1c01b0a1-e748-48d3-a81c-85cc54b5d991",
   "metadata": {},
   "outputs": [],
   "source": []
  }
 ],
 "metadata": {
  "kernelspec": {
   "display_name": "Python 3 (ipykernel)",
   "language": "python",
   "name": "python3"
  },
  "language_info": {
   "codemirror_mode": {
    "name": "ipython",
    "version": 3
   },
   "file_extension": ".py",
   "mimetype": "text/x-python",
   "name": "python",
   "nbconvert_exporter": "python",
   "pygments_lexer": "ipython3",
   "version": "3.12.2"
  }
 },
 "nbformat": 4,
 "nbformat_minor": 5
}
